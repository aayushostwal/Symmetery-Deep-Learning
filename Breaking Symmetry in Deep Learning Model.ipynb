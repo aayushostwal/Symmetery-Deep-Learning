{
 "cells": [
  {
   "cell_type": "markdown",
   "metadata": {},
   "source": [
    "# Symmetery in Deep Learning\n",
    "#### Why there is a need to initialize weights randomly in a Deep Learning Models? What is Symmetry breaking in Deep Learning model? So this is what is explained here. I have used cleaned dataset for titanic problem. And ran a two layer deep learning model with this data to classify the class as survived or not. the observation is that when weights are initialized to zero or same values then a symmetery pattern is observed while this is not the case when weights are initialized randomly."
   ]
  },
  {
   "cell_type": "code",
   "execution_count": 1,
   "metadata": {},
   "outputs": [],
   "source": [
    "## Importing Libraries\n",
    "import pandas as pd\n",
    "import numpy as np\n",
    "import seaborn as sns\n",
    "import matplotlib.pyplot as plt\n",
    "%matplotlib inline"
   ]
  },
  {
   "cell_type": "code",
   "execution_count": 2,
   "metadata": {},
   "outputs": [],
   "source": [
    "## importing dataset\n",
    "df = pd.read_csv('13-Logistic-Regression/titanic_clean.csv')"
   ]
  },
  {
   "cell_type": "code",
   "execution_count": 3,
   "metadata": {},
   "outputs": [],
   "source": [
    "# Seperating data into features and target variables\n",
    "X = df.drop('Survived', axis=1) \n",
    "Y =  np.array(df.Survived).reshape((-1,X.shape[0]))"
   ]
  },
  {
   "cell_type": "code",
   "execution_count": 5,
   "metadata": {},
   "outputs": [
    {
     "data": {
      "text/plain": [
       "((9, 889), (1, 889))"
      ]
     },
     "execution_count": 5,
     "metadata": {},
     "output_type": "execute_result"
    }
   ],
   "source": [
    "## Transponsing X such that it can be used in making a deep learning model\n",
    "X = X.T\n",
    "X.shape, Y.shape"
   ]
  },
  {
   "cell_type": "code",
   "execution_count": 6,
   "metadata": {},
   "outputs": [],
   "source": [
    "## Number of training example\n",
    "m = X.shape[1]"
   ]
  },
  {
   "cell_type": "markdown",
   "metadata": {},
   "source": [
    "### Deep learning Model"
   ]
  },
  {
   "cell_type": "code",
   "execution_count": 72,
   "metadata": {},
   "outputs": [],
   "source": [
    "## Number of Iterations\n",
    "n = 10"
   ]
  },
  {
   "cell_type": "code",
   "execution_count": 73,
   "metadata": {},
   "outputs": [],
   "source": [
    "## Sigmoid function\n",
    "def sigmoid(z):\n",
    "    a = np.exp(-z)\n",
    "    return 1/(1+a)"
   ]
  },
  {
   "cell_type": "code",
   "execution_count": 74,
   "metadata": {
    "scrolled": true
   },
   "outputs": [
    {
     "name": "stdout",
     "output_type": "stream",
     "text": [
      "================ iteration number: 0================\n",
      "The cost of the function is: 616.2078435177914\n",
      "W2:\n",
      "[[0. 0. 0. 0.]]\n",
      "================ iteration number: 1================\n",
      "The cost of the function is: 616.0851596067871\n",
      "W2:\n",
      "[[0. 0. 0. 0.]]\n",
      "================ iteration number: 2================\n",
      "The cost of the function is: 615.963088348405\n",
      "W2:\n",
      "[[0. 0. 0. 0.]]\n",
      "================ iteration number: 3================\n",
      "The cost of the function is: 615.841626682688\n",
      "W2:\n",
      "[[0. 0. 0. 0.]]\n",
      "================ iteration number: 4================\n",
      "The cost of the function is: 615.7207715645508\n",
      "W2:\n",
      "[[0. 0. 0. 0.]]\n",
      "================ iteration number: 5================\n",
      "The cost of the function is: 615.6005199637143\n",
      "W2:\n",
      "[[0. 0. 0. 0.]]\n",
      "================ iteration number: 6================\n",
      "The cost of the function is: 615.4808688646424\n",
      "W2:\n",
      "[[0. 0. 0. 0.]]\n",
      "================ iteration number: 7================\n",
      "The cost of the function is: 615.3618152664753\n",
      "W2:\n",
      "[[0. 0. 0. 0.]]\n",
      "================ iteration number: 8================\n",
      "The cost of the function is: 615.243356182967\n",
      "W2:\n",
      "[[0. 0. 0. 0.]]\n",
      "================ iteration number: 9================\n",
      "The cost of the function is: 615.1254886424192\n",
      "W2:\n",
      "[[0. 0. 0. 0.]]\n"
     ]
    }
   ],
   "source": [
    "## dict for storing costs\n",
    "ini_zero = {}\n",
    "\n",
    "## initializing weights of a 2 layer Deep Learning model as zero matrix.\n",
    "W1 = np.zeros((4,X.shape[0]))\n",
    "b1 = np.zeros((4,1))\n",
    "W2 = np.zeros((Y.shape[0],4))\n",
    "b2 = np.zeros((Y.shape[0],1))\n",
    "\n",
    "irts = n\n",
    "while irts > 0 :\n",
    "    print('================ iteration number: ' + str(n-irts) + '================')\n",
    "    irts = irts -1\n",
    "    ## Forward Propagation\n",
    "    Z1 = np.dot(W1,X) + b1\n",
    "    A1 = np.tanh(Z1)\n",
    "    Z2 = np.dot(W2,A1) + b2\n",
    "    A2 = sigmoid(Z2)\n",
    "\n",
    "    ## Cost estimation\n",
    "    logerror = -(np.multiply(Y, np.log(A2)) +  np.multiply(1-Y, np.log(1 - A2)))\n",
    "    cost = logerror.sum()\n",
    "    ini_zero[n-irts] = cost\n",
    "    print('The cost of the function is: ' + str(cost))\n",
    "    print('W2:')\n",
    "    print(W2)\n",
    "\n",
    "    ## Backward Propagation\n",
    "    dz2 = A2 - Y\n",
    "    dw2 = np.dot(dz2, A1.T)/m\n",
    "    db2 = np.sum(dz2, axis=1, keepdims = True)/m\n",
    "    derivative = 1 - np.tanh(Z1) * np.tanh(Z1)\n",
    "    dz1 = np.multiply(np.dot(W2.T, dz2) , derivative)\n",
    "    dw1 = np.dot(dz1,X.T)/m\n",
    "    db1 = np.sum(dz1, axis=1, keepdims = True)/m\n",
    "\n",
    "    ## Updating Weights    \n",
    "    W1 = W1 - 0.01*dw1\n",
    "    b1 = b1 - 0.01*db1\n",
    "    W2 = W2 - 0.01*dw2\n",
    "    b2 = b2 - 0.01*db2\n"
   ]
  },
  {
   "cell_type": "code",
   "execution_count": 75,
   "metadata": {},
   "outputs": [
    {
     "name": "stdout",
     "output_type": "stream",
     "text": [
      "The cost of the function is: 618.467657107387\n",
      "W2:\n",
      "[[-0.02613353 -0.00093333  0.00258666  0.0013983 ]]\n",
      "The cost of the function is: 617.9368604584199\n",
      "W2:\n",
      "[[-0.02496917 -0.00196022  0.00334577  0.00246877]]\n",
      "The cost of the function is: 617.4085663208896\n",
      "W2:\n",
      "[[-0.02381911 -0.00298111  0.00417541  0.00353181]]\n",
      "The cost of the function is: 616.883329601711\n",
      "W2:\n",
      "[[-0.02268362 -0.00399701  0.00504368  0.00458901]]\n",
      "The cost of the function is: 616.3621018898264\n",
      "W2:\n",
      "[[-0.02156299 -0.0050084   0.00593568  0.0056414 ]]\n",
      "The cost of the function is: 615.8457737634949\n",
      "W2:\n",
      "[[-0.02045749 -0.00601531  0.00684279  0.00668953]]\n",
      "The cost of the function is: 615.3350445326356\n",
      "W2:\n",
      "[[-0.01936737 -0.0070175   0.00775952  0.00773351]]\n",
      "The cost of the function is: 614.8304213514298\n",
      "W2:\n",
      "[[-0.01829283 -0.00801469  0.00868225  0.00877323]]\n",
      "The cost of the function is: 614.3322569703781\n",
      "W2:\n",
      "[[-0.01723404 -0.00900664  0.00960854  0.0098084 ]]\n",
      "The cost of the function is: 613.8407855606514\n",
      "W2:\n",
      "[[-0.01619114 -0.00999318  0.01053671  0.01083869]]\n"
     ]
    }
   ],
   "source": [
    "## dict for storing costs\n",
    "ini_nonzero = {}\n",
    "\n",
    "## initializing weights of a 2 layer Deep Learning model as randmon value matrix.\n",
    "W1 = np.random.randn(4,X.shape[0])*0.01\n",
    "b1 = np.zeros((4,1))\n",
    "W2 = np.random.randn(Y.shape[0],4) *0.01\n",
    "b2 = np.zeros((Y.shape[0],1))\n",
    "\n",
    "irts = n\n",
    "while irts > 0 :\n",
    "    irts = irts -1\n",
    "    ## Forward Propagation\n",
    "    Z1 = np.dot(W1,X) + b1\n",
    "    A1 = np.tanh(Z1)\n",
    "    Z2 = np.dot(W2,A1) + b2\n",
    "    A2 = sigmoid(Z2)\n",
    "\n",
    "    ## Cost estimation\n",
    "    logerror = -(np.multiply(Y, np.log(A2)) +  np.multiply(1-Y, np.log(1 - A2)))\n",
    "    cost = logerror.sum()\n",
    "    ini_nonzero[n-irts] = cost\n",
    "    print('The cost of the function is: ' + str(cost))\n",
    "    print('W2:')\n",
    "    print(W2)\n",
    "\n",
    "    ## Backward Propagation\n",
    "    dz2 = A2 - Y\n",
    "    dw2 = np.dot(dz2, A1.T)/m\n",
    "    db2 = np.sum(dz2, axis=1, keepdims = True)/m\n",
    "    derivative = 1 - np.tanh(Z1) * np.tanh(Z1)\n",
    "    dz1 = np.multiply(np.dot(W2.T, dz2) , derivative)\n",
    "    dw1 = np.dot(dz1,X.T)/m\n",
    "    db1 = np.sum(dz1, axis=1, keepdims = True)/m\n",
    "\n",
    "    ## Updating Weights    \n",
    "    W1 = W1 - 0.01*dw1\n",
    "    b1 = b1 - 0.01*db1\n",
    "    W2 = W2 - 0.01*dw2\n",
    "    b2 = b2 - 0.01*db2"
   ]
  },
  {
   "cell_type": "code",
   "execution_count": 71,
   "metadata": {},
   "outputs": [
    {
     "data": {
      "text/plain": [
       "Text(0.5, 1.0, 'Cost VS Number of Iterations')"
      ]
     },
     "execution_count": 71,
     "metadata": {},
     "output_type": "execute_result"
    },
    {
     "data": {
      "image/png": "[encoded data removed]",
      "text/plain": [
       "<Figure size 504x360 with 1 Axes>"
      ]
     },
     "metadata": {
      "needs_background": "light"
     },
     "output_type": "display_data"
    }
   ],
   "source": [
    "plt.figure(figsize=(7,5))\n",
    "x1 = list(ini_zero.keys())\n",
    "y1 = list(ini_zero.values())\n",
    "x2 = list(ini_nonzero.keys())\n",
    "y2 = list(ini_nonzero.values())\n",
    "plt.plot(x1,y1, label = 'Weights initialized to Zero')\n",
    "plt.plot(x2,y2,label = 'Weights initialized non-Zero')\n",
    "plt.legend(loc = 1)\n",
    "plt.ylabel('Cost')\n",
    "plt.xlabel('Number of Iterations')\n",
    "plt.title('Cost VS Number of Iterations for 3000 Iterations')"
   ]
  },
  {
   "cell_type": "code",
   "execution_count": null,
   "metadata": {},
   "outputs": [],
   "source": []
  }
 ],
 "metadata": {
  "kernelspec": {
   "display_name": "Python 3",
   "language": "python",
   "name": "python3"
  },
  "language_info": {
   "codemirror_mode": {
    "name": "ipython",
    "version": 3
   },
   "file_extension": ".py",
   "mimetype": "text/x-python",
   "name": "python",
   "nbconvert_exporter": "python",
   "pygments_lexer": "ipython3",
   "version": "3.7.6"
  }
 },
 "nbformat": 4,
 "nbformat_minor": 2
}
